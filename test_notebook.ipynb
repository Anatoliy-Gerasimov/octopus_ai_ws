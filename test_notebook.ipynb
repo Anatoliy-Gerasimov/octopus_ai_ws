{
 "cells": [
  {
   "cell_type": "code",
   "execution_count": 15,
   "metadata": {},
   "outputs": [],
   "source": [
    "import os\n",
    "import glob\n",
    "import pandas as pd\n",
    "import xml.etree.ElementTree as ET"
   ]
  },
  {
   "cell_type": "code",
   "execution_count": 16,
   "metadata": {},
   "outputs": [],
   "source": [
    "from keras.datasets import mnist\n",
    "from keras.models import Sequential, Model\n",
    "from keras.layers import Dense, Dropout\n",
    "from keras.layers import Reshape, Input\n",
    "from keras.layers.core import Activation\n",
    "from keras.layers.normalization import BatchNormalization\n",
    "from keras.layers.convolutional import UpSampling2D\n",
    "from keras.layers.convolutional import Conv2D, MaxPooling2D\n",
    "from keras.layers.core import Flatten\n",
    "from keras.optimizers import SGD\n",
    "from keras.callbacks import ModelCheckpoint"
   ]
  },
  {
   "cell_type": "code",
   "execution_count": 17,
   "metadata": {},
   "outputs": [],
   "source": [
    "from keras.callbacks import ModelCheckpoint\n",
    "from scipy import misc\n",
    "import h5py"
   ]
  },
  {
   "cell_type": "code",
   "execution_count": 18,
   "metadata": {},
   "outputs": [],
   "source": [
    "from keras.utils import np_utils\n",
    "from sklearn.metrics import confusion_matrix"
   ]
  },
  {
   "cell_type": "code",
   "execution_count": 19,
   "metadata": {},
   "outputs": [],
   "source": [
    "import pandas as pd\n",
    "from sklearn.model_selection import train_test_split\n",
    "from sklearn.cluster import KMeans"
   ]
  },
  {
   "cell_type": "code",
   "execution_count": 20,
   "metadata": {},
   "outputs": [],
   "source": [
    "from PIL import Image, ImageDraw\n",
    "import matplotlib.pyplot as plt\n",
    "import numpy as np\n",
    "%matplotlib inline"
   ]
  },
  {
   "cell_type": "code",
   "execution_count": 21,
   "metadata": {},
   "outputs": [],
   "source": [
    "import os\n",
    "import pandas as pd\n",
    "import tensorflow as tf\n",
    "\n",
    "from object_detection.utils import dataset_util\n",
    "\n",
    "import contextlib2\n",
    "from object_detection.dataset_tools import tf_record_creation_util\n"
   ]
  },
  {
   "cell_type": "code",
   "execution_count": 22,
   "metadata": {},
   "outputs": [
    {
     "name": "stdout",
     "output_type": "stream",
     "text": [
      "1.jpg\t 226.xml  361.JPG\tIMG_1370.xml  IMG_1435.JPG  IMG_1494.xml\r\n",
      "1.xml\t 227.jpg  361.xml\tIMG_1371.JPG  IMG_1435.xml  IMG_1495.JPG\r\n",
      "114.jpg  227.xml  362.JPG\tIMG_1371.xml  IMG_1436.JPG  IMG_1495.xml\r\n",
      "114.xml  230.jpg  362.xml\tIMG_1372.JPG  IMG_1436.xml  IMG_1496.JPG\r\n",
      "118.jpg  230.xml  363.JPG\tIMG_1372.xml  IMG_1437.JPG  IMG_1496.xml\r\n",
      "118.xml  231.jpg  363.xml\tIMG_1373.JPG  IMG_1437.xml  IMG_1497.JPG\r\n",
      "122.jpg  231.xml  366.jpg\tIMG_1373.xml  IMG_1438.JPG  IMG_1497.xml\r\n",
      "122.xml  232.jpg  366.xml\tIMG_1374.JPG  IMG_1438.xml  IMG_1498.JPG\r\n",
      "123.jpg  232.xml  367.jpg\tIMG_1374.xml  IMG_1439.JPG  IMG_1498.xml\r\n",
      "123.xml  233.jpg  367.xml\tIMG_1375.JPG  IMG_1439.xml  IMG_1499.JPG\r\n",
      "130.jpg  233.xml  368.jpg\tIMG_1375.xml  IMG_1440.JPG  IMG_1499.xml\r\n",
      "130.xml  234.jpg  368.xml\tIMG_1376.JPG  IMG_1440.xml  IMG_1500.JPG\r\n",
      "131.jpg  234.xml  369.jpg\tIMG_1376.xml  IMG_1441.JPG  IMG_1500.xml\r\n",
      "131.xml  235.jpg  369.xml\tIMG_1377.JPG  IMG_1441.xml  IMG_1501.JPG\r\n",
      "133.jpg  235.xml  370.jpg\tIMG_1377.xml  IMG_1442.JPG  IMG_1501.xml\r\n",
      "133.xml  236.jpg  370.xml\tIMG_1379.JPG  IMG_1442.xml  IMG_1502.JPG\r\n",
      "14.jpg\t 236.xml  371.jpg\tIMG_1379.xml  IMG_1443.JPG  IMG_1502.xml\r\n",
      "14.xml\t 237.jpg  371.xml\tIMG_1380.JPG  IMG_1443.xml  IMG_1503.JPG\r\n",
      "141.jpg  237.xml  372.jpg\tIMG_1380.xml  IMG_1444.JPG  IMG_1503.xml\r\n",
      "141.xml  238.jpg  372.xml\tIMG_1381.JPG  IMG_1444.xml  IMG_1504.JPG\r\n",
      "149.jpg  238.xml  373.jpg\tIMG_1381.xml  IMG_1445.JPG  IMG_1504.xml\r\n",
      "149.xml  24.jpg   373.xml\tIMG_1383.JPG  IMG_1445.xml  IMG_1505.JPG\r\n",
      "15.jpg\t 24.xml   374.jpg\tIMG_1383.xml  IMG_1446.JPG  IMG_1505.xml\r\n",
      "15.xml\t 25.jpg   374.xml\tIMG_1384.JPG  IMG_1446.xml  IMG_1506.JPG\r\n",
      "150.jpg  25.xml   375.jpg\tIMG_1384.xml  IMG_1447.JPG  IMG_1506.xml\r\n",
      "150.xml  26.jpg   375.xml\tIMG_1385.JPG  IMG_1447.xml  IMG_1507.JPG\r\n",
      "151.jpg  26.xml   376.jpg\tIMG_1385.xml  IMG_1448.JPG  IMG_1507.xml\r\n",
      "151.xml  277.jpg  376.xml\tIMG_1386.JPG  IMG_1448.xml  IMG_1508.JPG\r\n",
      "153.jpg  277.xml  377.jpg\tIMG_1386.xml  IMG_1449.JPG  IMG_1508.xml\r\n",
      "153.xml  278.jpg  377.xml\tIMG_1388.JPG  IMG_1449.xml  IMG_1509.JPG\r\n",
      "154.jpg  278.xml  378.jpg\tIMG_1388.xml  IMG_1450.JPG  IMG_1509.xml\r\n",
      "154.xml  282.jpg  378.xml\tIMG_1389.JPG  IMG_1450.xml  IMG_1510.JPG\r\n",
      "156.jpg  282.xml  379.jpg\tIMG_1389.xml  IMG_1451.JPG  IMG_1510.xml\r\n",
      "156.xml  283.jpg  379.xml\tIMG_1391.JPG  IMG_1451.xml  IMG_1511.JPG\r\n",
      "157.jpg  283.xml  380.jpg\tIMG_1391.xml  IMG_1452.JPG  IMG_1511.xml\r\n",
      "157.xml  29.jpg   380.xml\tIMG_1392.JPG  IMG_1452.xml  IMG_1512.JPG\r\n",
      "163.jpg  29.xml   381.jpg\tIMG_1392.xml  IMG_1453.JPG  IMG_1512.xml\r\n",
      "163.xml  3.jpg\t  381.xml\tIMG_1393.JPG  IMG_1453.xml  IMG_1513.JPG\r\n",
      "165.jpg  3.xml\t  39.jpg\tIMG_1393.xml  IMG_1454.JPG  IMG_1513.xml\r\n",
      "165.xml  301.jpg  39.xml\tIMG_1394.JPG  IMG_1454.xml  IMG_1514.JPG\r\n",
      "170.jpg  301.xml  4.jpg\t\tIMG_1394.xml  IMG_1455.JPG  IMG_1514.xml\r\n",
      "170.xml  302.jpg  4.xml\t\tIMG_1395.JPG  IMG_1455.xml  IMG_1515.JPG\r\n",
      "171.jpg  302.xml  40.jpg\tIMG_1395.xml  IMG_1456.JPG  IMG_1515.xml\r\n",
      "171.xml  303.jpg  40.xml\tIMG_1396.JPG  IMG_1456.xml  IMG_1517.JPG\r\n",
      "173.jpg  303.xml  48.jpg\tIMG_1396.xml  IMG_1457.JPG  IMG_1517.xml\r\n",
      "173.xml  305.jpg  48.xml\tIMG_1397.JPG  IMG_1457.xml  IMG_1518.JPG\r\n",
      "174.jpg  305.xml  5.jpg\t\tIMG_1397.xml  IMG_1458.JPG  IMG_1518.xml\r\n",
      "174.xml  307.jpg  5.xml\t\tIMG_1398.JPG  IMG_1458.xml  IMG_1519.JPG\r\n",
      "176.jpg  307.xml  50.jpg\tIMG_1398.xml  IMG_1459.JPG  IMG_1519.xml\r\n",
      "176.xml  308.jpg  50.xml\tIMG_1399.JPG  IMG_1459.xml  IMG_1520.JPG\r\n",
      "177.jpg  308.xml  51.jpg\tIMG_1399.xml  IMG_1460.JPG  IMG_1520.xml\r\n",
      "177.xml  309.jpg  51.xml\tIMG_1400.JPG  IMG_1460.xml  IMG_1521.JPG\r\n",
      "178.jpg  309.xml  52.jpg\tIMG_1400.xml  IMG_1461.JPG  IMG_1521.xml\r\n",
      "178.xml  310.jpg  52.xml\tIMG_1401.JPG  IMG_1461.xml  IMG_1522.JPG\r\n",
      "179.jpg  310.xml  55.jpg\tIMG_1401.xml  IMG_1462.JPG  IMG_1522.xml\r\n",
      "179.xml  311.jpg  55.xml\tIMG_1402.JPG  IMG_1462.xml  IMG_1523.JPG\r\n",
      "18.jpg\t 311.xml  6.jpg\t\tIMG_1402.xml  IMG_1463.JPG  IMG_1523.xml\r\n",
      "18.xml\t 312.jpg  6.xml\t\tIMG_1404.JPG  IMG_1463.xml  IMG_1524.JPG\r\n",
      "180.jpg  312.xml  73.jpg\tIMG_1404.xml  IMG_1464.JPG  IMG_1524.xml\r\n",
      "180.xml  313.jpg  73.xml\tIMG_1405.JPG  IMG_1464.xml  IMG_1525.JPG\r\n",
      "182.jpg  313.xml  76.jpg\tIMG_1405.xml  IMG_1465.JPG  IMG_1525.xml\r\n",
      "182.xml  314.jpg  76.xml\tIMG_1406.JPG  IMG_1465.xml  IMG_1526.JPG\r\n",
      "183.jpg  314.xml  77.jpg\tIMG_1406.xml  IMG_1466.JPG  IMG_1526.xml\r\n",
      "183.xml  33.jpg   77.xml\tIMG_1408.JPG  IMG_1466.xml  IMG_1527.JPG\r\n",
      "185.jpg  33.xml   91.jpg\tIMG_1408.xml  IMG_1467.JPG  IMG_1527.xml\r\n",
      "185.xml  335.JPG  91.xml\tIMG_1409.JPG  IMG_1467.xml  IMG_1528.JPG\r\n",
      "186.jpg  335.xml  92.jpg\tIMG_1409.xml  IMG_1468.JPG  IMG_1528.xml\r\n",
      "186.xml  336.JPG  92.xml\tIMG_1410.JPG  IMG_1468.xml  IMG_1529.JPG\r\n",
      "187.jpg  336.xml  94.jpg\tIMG_1410.xml  IMG_1469.JPG  IMG_1529.xml\r\n",
      "187.xml  337.JPG  94.xml\tIMG_1411.JPG  IMG_1469.xml  IMG_1530.JPG\r\n",
      "189.jpg  337.xml  IMG_1340.JPG\tIMG_1411.xml  IMG_1470.JPG  IMG_1530.xml\r\n",
      "189.xml  338.JPG  IMG_1340.xml\tIMG_1412.JPG  IMG_1470.xml  IMG_1531.JPG\r\n",
      "19.jpg\t 338.xml  IMG_1342.JPG\tIMG_1412.xml  IMG_1471.JPG  IMG_1531.xml\r\n",
      "19.xml\t 339.JPG  IMG_1342.xml\tIMG_1413.JPG  IMG_1471.xml  IMG_1532.JPG\r\n",
      "191.jpg  339.xml  IMG_1343.JPG\tIMG_1413.xml  IMG_1472.JPG  IMG_1532.xml\r\n",
      "191.xml  340.JPG  IMG_1343.xml\tIMG_1414.JPG  IMG_1472.xml  IMG_1533.JPG\r\n",
      "194.jpg  340.xml  IMG_1344.JPG\tIMG_1414.xml  IMG_1473.JPG  IMG_1533.xml\r\n",
      "194.xml  341.JPG  IMG_1344.xml\tIMG_1415.JPG  IMG_1473.xml  IMG_1534.JPG\r\n",
      "195.jpg  341.xml  IMG_1345.JPG\tIMG_1415.xml  IMG_1474.JPG  IMG_1534.xml\r\n",
      "195.xml  342.JPG  IMG_1345.xml\tIMG_1416.JPG  IMG_1474.xml  IMG_1535.JPG\r\n",
      "197.jpg  342.xml  IMG_1347.JPG\tIMG_1416.xml  IMG_1475.JPG  IMG_1535.xml\r\n",
      "197.xml  343.JPG  IMG_1347.xml\tIMG_1417.JPG  IMG_1475.xml  IMG_1536.JPG\r\n",
      "198.jpg  343.xml  IMG_1348.JPG\tIMG_1417.xml  IMG_1476.JPG  IMG_1536.xml\r\n",
      "198.xml  344.JPG  IMG_1348.xml\tIMG_1418.JPG  IMG_1476.xml  IMG_1537.JPG\r\n",
      "2.jpg\t 344.xml  IMG_1351.JPG\tIMG_1418.xml  IMG_1477.JPG  IMG_1537.xml\r\n",
      "2.xml\t 345.JPG  IMG_1351.xml\tIMG_1419.JPG  IMG_1477.xml  IMG_1538.JPG\r\n",
      "20.jpg\t 345.xml  IMG_1354.JPG\tIMG_1419.xml  IMG_1478.JPG  IMG_1538.xml\r\n",
      "20.xml\t 346.JPG  IMG_1354.xml\tIMG_1420.JPG  IMG_1478.xml  IMG_1539.JPG\r\n",
      "201.jpg  346.xml  IMG_1355.JPG\tIMG_1420.xml  IMG_1479.JPG  IMG_1539.xml\r\n",
      "201.xml  347.JPG  IMG_1355.xml\tIMG_1421.JPG  IMG_1479.xml  IMG_1540.JPG\r\n",
      "203.jpg  347.xml  IMG_1357.JPG\tIMG_1421.xml  IMG_1480.JPG  IMG_1540.xml\r\n",
      "203.xml  348.JPG  IMG_1357.xml\tIMG_1422.JPG  IMG_1480.xml  IMG_1541.JPG\r\n",
      "205.jpg  348.xml  IMG_1358.JPG\tIMG_1422.xml  IMG_1481.JPG  IMG_1541.xml\r\n",
      "205.xml  349.JPG  IMG_1358.xml\tIMG_1423.JPG  IMG_1481.xml  IMG_1542.JPG\r\n",
      "206.jpg  349.xml  IMG_1359.JPG\tIMG_1423.xml  IMG_1482.JPG  IMG_1542.xml\r\n",
      "206.xml  350.JPG  IMG_1359.xml\tIMG_1424.JPG  IMG_1482.xml  IMG_1543.JPG\r\n",
      "207.jpg  350.xml  IMG_1360.JPG\tIMG_1424.xml  IMG_1483.JPG  IMG_1543.xml\r\n",
      "207.xml  351.JPG  IMG_1360.xml\tIMG_1425.JPG  IMG_1483.xml  IMG_1544.JPG\r\n",
      "208.jpg  351.xml  IMG_1361.JPG\tIMG_1425.xml  IMG_1485.JPG  IMG_1544.xml\r\n",
      "208.xml  352.JPG  IMG_1361.xml\tIMG_1426.JPG  IMG_1485.xml  IMG_1545.JPG\r\n",
      "21.jpg\t 352.xml  IMG_1362.JPG\tIMG_1426.xml  IMG_1486.JPG  IMG_1545.xml\r\n",
      "21.xml\t 353.JPG  IMG_1362.xml\tIMG_1427.JPG  IMG_1486.xml  IMG_1546.JPG\r\n",
      "210.jpg  353.xml  IMG_1363.JPG\tIMG_1427.xml  IMG_1487.JPG  IMG_1546.xml\r\n",
      "210.xml  354.JPG  IMG_1363.xml\tIMG_1428.JPG  IMG_1487.xml  IMG_1547.JPG\r\n",
      "212.jpg  354.xml  IMG_1364.JPG\tIMG_1428.xml  IMG_1488.JPG  IMG_1547.xml\r\n",
      "212.xml  355.JPG  IMG_1364.xml\tIMG_1429.JPG  IMG_1488.xml  IMG_1548.JPG\r\n",
      "216.jpg  355.xml  IMG_1365.JPG\tIMG_1429.xml  IMG_1489.JPG  IMG_1548.xml\r\n",
      "216.xml  356.JPG  IMG_1365.xml\tIMG_1430.JPG  IMG_1489.xml  IMG_1549.JPG\r\n",
      "220.jpg  356.xml  IMG_1366.JPG\tIMG_1430.xml  IMG_1490.JPG  IMG_1549.xml\r\n",
      "220.xml  357.JPG  IMG_1366.xml\tIMG_1431.JPG  IMG_1490.xml  IMG_1550.JPG\r\n",
      "222.jpg  357.xml  IMG_1367.JPG\tIMG_1431.xml  IMG_1491.JPG  IMG_1550.xml\r\n",
      "222.xml  358.JPG  IMG_1367.xml\tIMG_1432.JPG  IMG_1491.xml  IMG_1551.JPG\r\n",
      "224.jpg  358.xml  IMG_1368.JPG\tIMG_1432.xml  IMG_1492.JPG  IMG_1551.xml\r\n",
      "224.xml  359.JPG  IMG_1368.xml\tIMG_1433.JPG  IMG_1492.xml\r\n",
      "225.jpg  359.xml  IMG_1369.JPG\tIMG_1433.xml  IMG_1493.JPG\r\n",
      "225.xml  360.JPG  IMG_1369.xml\tIMG_1434.JPG  IMG_1493.xml\r\n",
      "226.jpg  360.xml  IMG_1370.JPG\tIMG_1434.xml  IMG_1494.JPG\r\n"
     ]
    }
   ],
   "source": [
    "# Убедитесь что в папке датасет есть файлы\n",
    "!ls dataset"
   ]
  },
  {
   "cell_type": "code",
   "execution_count": 23,
   "metadata": {},
   "outputs": [
    {
     "name": "stdout",
     "output_type": "stream",
     "text": [
      "checkpoint\t\t   model.ckpt.data-00000-of-00001  pipeline.config\r\n",
      "frozen_inference_graph.pb  model.ckpt.index\t\t   saved_model\r\n",
      "hearts_model\t\t   model.ckpt.meta\t\t   training.config\r\n"
     ]
    }
   ],
   "source": [
    "# Убедитесь что модель скачана\n",
    "!ls models_train/ssd_mobilenet_v2_coco_2018_03_29/"
   ]
  }
 ],
 "metadata": {
  "kernelspec": {
   "display_name": "Python 3",
   "language": "python",
   "name": "python3"
  },
  "language_info": {
   "codemirror_mode": {
    "name": "ipython",
    "version": 3
   },
   "file_extension": ".py",
   "mimetype": "text/x-python",
   "name": "python",
   "nbconvert_exporter": "python",
   "pygments_lexer": "ipython3",
   "version": "3.6.7"
  }
 },
 "nbformat": 4,
 "nbformat_minor": 2
}
